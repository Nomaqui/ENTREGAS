{
  "nbformat": 4,
  "nbformat_minor": 0,
  "metadata": {
    "colab": {
      "provenance": [],
      "include_colab_link": true
    },
    "kernelspec": {
      "name": "python3",
      "display_name": "Python 3"
    },
    "language_info": {
      "name": "python"
    }
  },
  "cells": [
    {
      "cell_type": "markdown",
      "metadata": {
        "id": "view-in-github",
        "colab_type": "text"
      },
      "source": [
        "<a href=\"https://colab.research.google.com/github/Nomaqui/ENTREGAS/blob/main/99_2_modelo_soluci%C3%B3n.ipynb\" target=\"_parent\"><img src=\"https://colab.research.google.com/assets/colab-badge.svg\" alt=\"Open In Colab\"/></a>"
      ]
    },
    {
      "cell_type": "code",
      "execution_count": null,
      "metadata": {
        "id": "kP5W3kotmcPn"
      },
      "outputs": [],
      "source": [
        "import pandas as pd\n",
        "from sklearn.impute import SimpleImputer\n",
        "from sklearn.model_selection import train_test_split, cross_val_score\n",
        "from sklearn.preprocessing import StandardScaler\n",
        "from sklearn.linear_model import LogisticRegression\n",
        "from sklearn.svm import LinearSVC\n",
        "from sklearn.ensemble import RandomForestClassifier, VotingClassifier\n",
        "from xgboost import XGBClassifier\n",
        "from sklearn.metrics import accuracy_score, classification_report\n",
        "from sklearn.linear_model import LogisticRegression\n",
        "from sklearn.metrics import accuracy_score, classification_report"
      ]
    },
    {
      "cell_type": "markdown",
      "source": [
        "Cargar y preprocesar datos de train"
      ],
      "metadata": {
        "id": "6UjPyme4m6cJ"
      }
    },
    {
      "cell_type": "code",
      "source": [
        "df = pd.read_csv('train.csv')\n",
        "y = df['RENDIMIENTO_GLOBAL']\n",
        "X = df.drop(columns=['RENDIMIENTO_GLOBAL', 'ID', 'ESTU_PRIVADO_LIBERTAD'])\n",
        "\n",
        "cat_cols = X.select_dtypes(include=['object', 'category']).columns.tolist()\n",
        "num_cols = X.select_dtypes(include=['int64', 'float64']).columns.tolist()\n",
        "\n",
        "imp_num = SimpleImputer(strategy='mean')\n",
        "X[num_cols] = imp_num.fit_transform(X[num_cols])\n",
        "\n",
        "imp_cat = SimpleImputer(strategy='most_frequent')\n",
        "X[cat_cols] = imp_cat.fit_transform(X[cat_cols])\n",
        "\n",
        "#sin agrupar los \"poco frecuentes\"\n",
        "\n",
        "X_convertida = pd.get_dummies(X, columns=cat_cols, drop_first=True)"
      ],
      "metadata": {
        "id": "qLwPlo_Em2HL"
      },
      "execution_count": null,
      "outputs": []
    },
    {
      "cell_type": "markdown",
      "source": [
        "División y escalamiento"
      ],
      "metadata": {
        "id": "5guNYecRnkry"
      }
    },
    {
      "cell_type": "code",
      "source": [
        "X_train, X_test, y_train, y_test= train_test_split(X_convertida, y,  test_size=0.05, random_state=19, stratify=y)\n",
        "\n",
        "scaler = StandardScaler()\n",
        "X_train_scaled = scaler.fit_transform(X_train)\n",
        "X_test_scaled = scaler.transform(X_test)"
      ],
      "metadata": {
        "id": "rChN0Y_1m9im"
      },
      "execution_count": null,
      "outputs": []
    },
    {
      "cell_type": "markdown",
      "source": [
        "Definición de modelos"
      ],
      "metadata": {
        "id": "j3kQTN5anwxl"
      }
    },
    {
      "cell_type": "code",
      "source": [
        "from sklearn.linear_model import LogisticRegression\n",
        "from sklearn.metrics import accuracy_score, classification_report\n",
        "\n",
        "# Modelo básico\n",
        "clf = LogisticRegression(max_iter=200, solver='lbfgs', random_state=19)\n"
      ],
      "metadata": {
        "id": "Iu86s51RnwIH"
      },
      "execution_count": null,
      "outputs": []
    },
    {
      "cell_type": "markdown",
      "source": [
        "Entrenamiento y evaluación"
      ],
      "metadata": {
        "id": "vlckjZTbn5_E"
      }
    },
    {
      "cell_type": "code",
      "source": [
        "clf.fit(X_train_scaled, y_train)\n",
        "y_pred = clf.predict(X_test_scaled)\n",
        "\n",
        "# Evaluación\n",
        "print(f\"Accuracy: {accuracy_score(y_test, y_pred) * 100:.2f}%\")\n",
        "print(\"Reporte de clasificación:\")\n",
        "print(classification_report(y_test, y_pred))"
      ],
      "metadata": {
        "id": "7wa57Pj1n_mi"
      },
      "execution_count": null,
      "outputs": []
    },
    {
      "cell_type": "markdown",
      "source": [
        "Predicción en test.csv"
      ],
      "metadata": {
        "id": "US_SEtJupjS4"
      }
    },
    {
      "cell_type": "code",
      "source": [
        "# Cargar test real\n",
        "df_test = pd.read_csv(\"test.csv\")\n",
        "ids_test = df_test[\"ID\"]\n",
        "X_test_real = df_test.drop(columns=[\"ID\"])\n",
        "\n",
        "# Imputar y codificar test como se hizo con entrenamiento\n",
        "X_test_real[num_cols] = imp_num.transform(X_test_real[num_cols])\n",
        "X_test_real[cat_cols] = imp_cat.transform(X_test_real[cat_cols])\n",
        "frecuencias = X['ESTU_PRGM_ACADEMICO'].value_counts()\n",
        "poco_frecuentes = frecuencias[frecuencias <= 690].index\n",
        "X_test_real['ESTU_PRGM_ACADEMICO'] = X_test_real['ESTU_PRGM_ACADEMICO'].replace(poco_frecuentes, 'POCO_FRECUENTE')\n",
        "X_test_real = pd.get_dummies(X_test_real, columns=cat_cols, drop_first=True)\n",
        "\n",
        "# Alinear columnas con entrenamiento\n",
        "X_test_real = X_test_real.reindex(columns=X_convertida.columns, fill_value=0)\n",
        "\n",
        "# Escalar\n",
        "X_test_real_scaled = scaler.transform(X_test_real)\n",
        "\n",
        "# Predecir\n",
        "y_test_pred = eclf.predict(X_test_real_scaled)\n",
        "\n",
        "# Crear archivo de envío\n",
        "submission = pd.DataFrame({\n",
        "    \"ID\": ids_test,\n",
        "    \"RENDIMIENTO_GLOBAL\": y_test_pred\n",
        "})\n",
        "\n",
        "submission.to_csv(\"submission.csv\", index=False)\n",
        "print(\"✅ Archivo 'submission.csv' creado correctamente.\")"
      ],
      "metadata": {
        "id": "yxEf7GDPpkJ9"
      },
      "execution_count": null,
      "outputs": []
    }
  ]
}
