{
  "nbformat": 4,
  "nbformat_minor": 0,
  "metadata": {
    "colab": {
      "provenance": [],
      "authorship_tag": "ABX9TyO00F5Ub75dt8fVkbi68+ME",
      "include_colab_link": true
    },
    "kernelspec": {
      "name": "python3",
      "display_name": "Python 3"
    },
    "language_info": {
      "name": "python"
    }
  },
  "cells": [
    {
      "cell_type": "markdown",
      "metadata": {
        "id": "view-in-github",
        "colab_type": "text"
      },
      "source": [
        "<a href=\"https://colab.research.google.com/github/Nomaqui/ENTREGAS/blob/main/02%20-%20preprocesado.ipynb\" target=\"_parent\"><img src=\"https://colab.research.google.com/assets/colab-badge.svg\" alt=\"Open In Colab\"/></a>"
      ]
    },
    {
      "cell_type": "markdown",
      "source": [
        "Leer el contenido, y cargar las librerias que vamos a usar\n"
      ],
      "metadata": {
        "id": "qaT9So5HjWrN"
      }
    },
    {
      "cell_type": "code",
      "source": [
        "import pandas as pd\n",
        "from sklearn.impute import SimpleImputer\n",
        "\n",
        "df = pd.read_csv('train.csv')\n",
        "\n",
        "# Guardar columna objetivo y ID\n",
        "y = df['RENDIMIENTO_GLOBAL']\n",
        "\n",
        "X = df.drop(columns=['RENDIMIENTO_GLOBAL', 'ID'])\n"
      ],
      "metadata": {
        "id": "xwvRv1Lzj764"
      },
      "execution_count": 24,
      "outputs": []
    },
    {
      "cell_type": "markdown",
      "source": [
        "Separar columnas por tipo"
      ],
      "metadata": {
        "id": "OuT8iP3DVkaH"
      }
    },
    {
      "cell_type": "code",
      "source": [
        "cat_cols = X.select_dtypes(include=['object', 'category']).columns.tolist()\n",
        "num_cols = X.select_dtypes(include=['int64', 'float64']).columns.tolist()\n",
        "\n",
        "print(\"Categóricas:\", cat_cols)\n",
        "print(\"Numéricas:\", num_cols)"
      ],
      "metadata": {
        "id": "FcpiRwAfV0iK",
        "outputId": "16e76592-9aae-4178-ec6e-441d49c93e88",
        "colab": {
          "base_uri": "https://localhost:8080/"
        }
      },
      "execution_count": 25,
      "outputs": [
        {
          "output_type": "stream",
          "name": "stdout",
          "text": [
            "Categóricas: ['ESTU_PRGM_ACADEMICO', 'ESTU_PRGM_DEPARTAMENTO', 'ESTU_VALORMATRICULAUNIVERSIDAD', 'ESTU_HORASSEMANATRABAJA', 'FAMI_ESTRATOVIVIENDA', 'FAMI_TIENEINTERNET', 'FAMI_EDUCACIONPADRE', 'FAMI_TIENELAVADORA', 'FAMI_TIENEAUTOMOVIL', 'ESTU_PRIVADO_LIBERTAD', 'ESTU_PAGOMATRICULAPROPIO', 'FAMI_TIENECOMPUTADOR', 'FAMI_TIENEINTERNET.1', 'FAMI_EDUCACIONMADRE']\n",
            "Numéricas: ['PERIODO', 'coef_1', 'coef_2', 'coef_3', 'coef_4']\n"
          ]
        }
      ]
    },
    {
      "cell_type": "markdown",
      "source": [
        "Imputar numéricas con la media"
      ],
      "metadata": {
        "id": "CztT0JrVWhBr"
      }
    },
    {
      "cell_type": "code",
      "source": [
        "imp_num = SimpleImputer(strategy='mean')\n",
        "X[num_cols] = imp_num.fit_transform(X[num_cols])"
      ],
      "metadata": {
        "id": "wJCPopOHlnXC"
      },
      "execution_count": 26,
      "outputs": []
    },
    {
      "cell_type": "markdown",
      "source": [
        "Imputar categóricas con la moda"
      ],
      "metadata": {
        "id": "OiGmqeofVMmv"
      }
    },
    {
      "cell_type": "code",
      "source": [
        "imp_cat = SimpleImputer(strategy='most_frequent')\n",
        "X[cat_cols] = imp_cat.fit_transform(X[cat_cols])"
      ],
      "metadata": {
        "id": "-aJ45gXpneEA"
      },
      "execution_count": 27,
      "outputs": []
    },
    {
      "cell_type": "markdown",
      "source": [
        "Mostrar la tabla con los datos imputados"
      ],
      "metadata": {
        "id": "eeqrtamXZn7v"
      }
    },
    {
      "cell_type": "markdown",
      "source": [
        "Convertir columnas en one-hot"
      ],
      "metadata": {
        "id": "bvF5Yc-3nOeo"
      }
    },
    {
      "cell_type": "code",
      "source": [
        "X_convertida = pd.get_dummies(X, columns=cat_cols, drop_first=True)"
      ],
      "metadata": {
        "id": "PCJu9la3dPpt"
      },
      "execution_count": 28,
      "outputs": []
    },
    {
      "cell_type": "markdown",
      "source": [
        "Mostrar la tabla con las columnas debidas en one-hot"
      ],
      "metadata": {
        "id": "gm_8NG6Fnegy"
      }
    },
    {
      "cell_type": "code",
      "source": [],
      "metadata": {
        "id": "22S4DScRKL_G"
      },
      "execution_count": null,
      "outputs": []
    },
    {
      "cell_type": "code",
      "source": [
        "from sklearn.ensemble import RandomForestClassifier\n",
        "from sklearn.svm import SVC\n",
        "from sklearn.naive_bayes import GaussianNB\n",
        "from sklearn.tree import DecisionTreeClassifier\n",
        "from sklearn.linear_model import LogisticRegression\n",
        "from sklearn.decomposition import PCA\n",
        "from sklearn.pipeline import Pipeline\n",
        "from sklearn.model_selection import train_test_split\n",
        "X_train, X_test, y_train, y_test= train_test_split(X_convertida, y,  test_size=0.42857184, random_state=19, stratify=y)\n",
        "clf = RandomForestClassifier(\n",
        "    n_estimators=400,\n",
        "\n",
        "    # Más árboles suelen mejorar el rendimiento\n",
        "    max_depth=None,           # Limita profundidad para evitar overfitting\n",
        "    min_samples_split=5,      # Requiere más muestras para dividir\n",
        "    min_samples_leaf=2,       # Reduce overfitting\n",
        "    max_features='sqrt',      # Usa solo raíz de variables en cada split\n",
        "    random_state=19\n",
        ")\n",
        "clf.fit(X_train, y_train)"
      ],
      "metadata": {
        "id": "S12BCJolws0I"
      },
      "execution_count": null,
      "outputs": []
    },
    {
      "cell_type": "code",
      "source": [],
      "metadata": {
        "id": "SF2sh-CqmdpA"
      },
      "execution_count": null,
      "outputs": []
    },
    {
      "cell_type": "code",
      "source": [
        "from sklearn.metrics import classification_report, confusion_matrix\n",
        "\n",
        "y_pred = clf.predict(X_test)\n",
        "\n",
        "print(classification_report(y_test, y_pred))\n",
        "print(confusion_matrix(y_test, y_pred))"
      ],
      "metadata": {
        "colab": {
          "base_uri": "https://localhost:8080/"
        },
        "id": "CFq4w1amKf7D",
        "outputId": "a8c456f7-a99e-4972-922f-8dd990b1737a"
      },
      "execution_count": 44,
      "outputs": [
        {
          "output_type": "stream",
          "name": "stdout",
          "text": [
            "              precision    recall  f1-score   support\n",
            "\n",
            "        alto       0.50      0.63      0.56     75266\n",
            "        bajo       0.42      0.57      0.48     74137\n",
            "  medio-alto       0.32      0.20      0.25     73551\n",
            "  medio-bajo       0.32      0.24      0.27     73832\n",
            "\n",
            "    accuracy                           0.41    296786\n",
            "   macro avg       0.39      0.41      0.39    296786\n",
            "weighted avg       0.39      0.41      0.39    296786\n",
            "\n",
            "[[47317  8976 11368  7605]\n",
            " [ 8985 41989  8654 14509]\n",
            " [23885 19492 15000 15174]\n",
            " [14201 29463 12586 17582]]\n"
          ]
        }
      ]
    },
    {
      "cell_type": "code",
      "source": [
        "df_test = pd.read_csv(\"test.csv\")\n",
        "ids_test = df_test[\"ID\"]\n",
        "X_test = df_test.drop(columns=[\"ID\"])"
      ],
      "metadata": {
        "id": "2rlYGwl8Sfx8"
      },
      "execution_count": 31,
      "outputs": []
    },
    {
      "cell_type": "code",
      "source": [
        "# Imputar valores faltantes\n",
        "X_test[num_cols] = imp_num.transform(X_test[num_cols])\n",
        "X_test[cat_cols] = imp_cat.transform(X_test[cat_cols])\n",
        "\n",
        "# Codificación one-hot con las mismas columnas que el entrenamiento\n",
        "X_test_convertida = pd.get_dummies(X_test, columns=cat_cols, drop_first=True)\n",
        "\n",
        "# Asegurar que tenga las mismas columnas que X_convertida\n",
        "X_test_convertida = X_test_convertida.reindex(columns=X_convertida.columns, fill_value=0)"
      ],
      "metadata": {
        "id": "L0JypX0hS6-v"
      },
      "execution_count": 32,
      "outputs": []
    },
    {
      "cell_type": "code",
      "source": [
        "y_test_pred = clf.predict(X_test_convertida)"
      ],
      "metadata": {
        "id": "pP9PHfoLTEjx"
      },
      "execution_count": 33,
      "outputs": []
    },
    {
      "cell_type": "code",
      "source": [
        "print(len(y_test_pred))"
      ],
      "metadata": {
        "id": "AUt7unB2TZxb",
        "outputId": "521fda0a-a94a-4d29-bb66-7bd2a3372f76",
        "colab": {
          "base_uri": "https://localhost:8080/"
        }
      },
      "execution_count": 34,
      "outputs": [
        {
          "output_type": "stream",
          "name": "stdout",
          "text": [
            "296786\n"
          ]
        }
      ]
    },
    {
      "cell_type": "code",
      "source": [
        "submission = pd.DataFrame({\n",
        "    \"ID\": ids_test,\n",
        "    \"RENDIMIENTO_GLOBAL\": y_test_pred\n",
        "})"
      ],
      "metadata": {
        "id": "iAvVftNATPbu"
      },
      "execution_count": 35,
      "outputs": []
    },
    {
      "cell_type": "code",
      "source": [
        "submission.to_csv(\"submission.csv\", index=False)\n"
      ],
      "metadata": {
        "id": "nBH41_Fnsrn3"
      },
      "execution_count": 36,
      "outputs": []
    }
  ]
}