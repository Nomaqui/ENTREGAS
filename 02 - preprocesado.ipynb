{
  "nbformat": 4,
  "nbformat_minor": 0,
  "metadata": {
    "colab": {
      "provenance": [],
      "authorship_tag": "ABX9TyOb+qaBcgq2wrAKERnqACkt",
      "include_colab_link": true
    },
    "kernelspec": {
      "name": "python3",
      "display_name": "Python 3"
    },
    "language_info": {
      "name": "python"
    }
  },
  "cells": [
    {
      "cell_type": "markdown",
      "metadata": {
        "id": "view-in-github",
        "colab_type": "text"
      },
      "source": [
        "<a href=\"https://colab.research.google.com/github/Nomaqui/ENTREGAS/blob/main/02%20-%20preprocesado.ipynb\" target=\"_parent\"><img src=\"https://colab.research.google.com/assets/colab-badge.svg\" alt=\"Open In Colab\"/></a>"
      ]
    },
    {
      "cell_type": "code",
      "source": [
        "import pandas as pd\n",
        "from sklearn.impute import SimpleImputer\n",
        "\n",
        "df = pd.read_csv('train.csv')\n",
        "\n",
        "# Guardar columna objetivo y ID\n",
        "y = df['RENDIMIENTO_GLOBAL']\n",
        "\n",
        "X = df.drop(columns=['RENDIMIENTO_GLOBAL', 'ID', 'ESTU_PRIVADO_LIBERTAD'])\n"
      ],
      "metadata": {
        "id": "xwvRv1Lzj764"
      },
      "execution_count": 1,
      "outputs": []
    },
    {
      "cell_type": "markdown",
      "source": [
        "Separar columnas por tipo"
      ],
      "metadata": {
        "id": "OuT8iP3DVkaH"
      }
    },
    {
      "cell_type": "code",
      "source": [
        "cat_cols = X.select_dtypes(include=['object', 'category']).columns.tolist()\n",
        "num_cols = X.select_dtypes(include=['int64', 'float64']).columns.tolist()\n",
        "\n",
        "print(\"Categóricas:\", cat_cols)\n",
        "print(\"Numéricas:\", num_cols)"
      ],
      "metadata": {
        "id": "FcpiRwAfV0iK",
        "outputId": "49679d0e-3ddf-4002-811e-eef5df2caf87",
        "colab": {
          "base_uri": "https://localhost:8080/"
        }
      },
      "execution_count": 2,
      "outputs": [
        {
          "output_type": "stream",
          "name": "stdout",
          "text": [
            "Categóricas: ['ESTU_PRGM_ACADEMICO', 'ESTU_PRGM_DEPARTAMENTO', 'ESTU_VALORMATRICULAUNIVERSIDAD', 'ESTU_HORASSEMANATRABAJA', 'FAMI_ESTRATOVIVIENDA', 'FAMI_TIENEINTERNET', 'FAMI_EDUCACIONPADRE', 'FAMI_TIENELAVADORA', 'FAMI_TIENEAUTOMOVIL', 'ESTU_PAGOMATRICULAPROPIO', 'FAMI_TIENECOMPUTADOR', 'FAMI_TIENEINTERNET.1', 'FAMI_EDUCACIONMADRE']\n",
            "Numéricas: ['PERIODO', 'coef_1', 'coef_2', 'coef_3', 'coef_4']\n"
          ]
        }
      ]
    },
    {
      "cell_type": "markdown",
      "source": [
        "Imputar numéricas con la media"
      ],
      "metadata": {
        "id": "CztT0JrVWhBr"
      }
    },
    {
      "cell_type": "code",
      "source": [
        "imp_num = SimpleImputer(strategy='mean')\n",
        "X[num_cols] = imp_num.fit_transform(X[num_cols])"
      ],
      "metadata": {
        "id": "wJCPopOHlnXC"
      },
      "execution_count": 3,
      "outputs": []
    },
    {
      "cell_type": "markdown",
      "source": [
        "Imputar categóricas con la moda"
      ],
      "metadata": {
        "id": "OiGmqeofVMmv"
      }
    },
    {
      "cell_type": "code",
      "source": [
        "imp_cat = SimpleImputer(strategy='most_frequent')\n",
        "X[cat_cols] = imp_cat.fit_transform(X[cat_cols])"
      ],
      "metadata": {
        "id": "-aJ45gXpneEA"
      },
      "execution_count": 4,
      "outputs": []
    },
    {
      "cell_type": "code",
      "source": [
        "frecuencias = X['ESTU_PRGM_ACADEMICO'].value_counts()\n",
        "\n",
        "# Crear una máscara para las que aparecen solo una vez\n",
        "categorias_poco_frecuentes = frecuencias[frecuencias <= 690].index\n",
        "\n",
        "# Reemplazar esas categorías por \"POCO_FRECUENTE\"\n",
        "X['ESTU_PRGM_ACADEMICO'] = X['ESTU_PRGM_ACADEMICO'].replace(categorias_poco_frecuentes, 'POCO_FRECUENTE')"
      ],
      "metadata": {
        "id": "QKKxIQ2ksyDp"
      },
      "execution_count": 5,
      "outputs": []
    },
    {
      "cell_type": "markdown",
      "source": [
        "Convertir columnas en one-hot"
      ],
      "metadata": {
        "id": "bvF5Yc-3nOeo"
      }
    },
    {
      "cell_type": "code",
      "source": [
        "X_convertida = pd.get_dummies(X, columns=cat_cols, drop_first=True)"
      ],
      "metadata": {
        "id": "PCJu9la3dPpt"
      },
      "execution_count": 6,
      "outputs": []
    },
    {
      "cell_type": "markdown",
      "source": [
        "Mostrar la tabla con las columnas debidas en one-hot"
      ],
      "metadata": {
        "id": "gm_8NG6Fnegy"
      }
    },
    {
      "cell_type": "code",
      "source": [
        "X_convertida"
      ],
      "metadata": {
        "id": "22S4DScRKL_G"
      },
      "execution_count": null,
      "outputs": []
    },
    {
      "cell_type": "code",
      "source": [
        "from sklearn.ensemble import RandomForestClassifier\n",
        "from sklearn.model_selection import train_test_split\n",
        "X_train, X_test, y_train, y_test= train_test_split(X_convertida, y,  test_size=0.2, random_state=19, stratify=y)\n",
        "#clf = RandomForestClassifier(\n",
        "    #n_estimators=300,\n",
        "    #class_weight='balanced',\n",
        "    # Más árboles suelen mejorar el rendimiento\n",
        "    #max_depth=20,           # Limita profundidad para evitar overfitting\n",
        "    #min_samples_split=5,      # Requiere más muestras para dividir\n",
        "    #min_samples_leaf=2,       # Reduce overfitting\n",
        "    #max_features='sqrt',      # Usa solo raíz de variables en cada split\n",
        "    #random_state=19\n",
        "#)\n",
        "#clf.fit(X_train, y_train)"
      ],
      "metadata": {
        "id": "S12BCJolws0I"
      },
      "execution_count": 7,
      "outputs": []
    },
    {
      "cell_type": "code",
      "source": [
        "from sklearn.preprocessing import StandardScaler\n",
        "from sklearn.ensemble import VotingClassifier\n",
        "from sklearn.linear_model import LogisticRegression\n",
        "from sklearn.svm import SVC\n",
        "from sklearn.ensemble import RandomForestClassifier\n",
        "from sklearn.svm import LinearSVC\n",
        "\n",
        "# Escalar\n",
        "scaler = StandardScaler()\n",
        "X_train_scaled = scaler.fit_transform(X_train)\n",
        "X_test_scaled = scaler.transform(X_test)\n",
        "\n",
        "# Modelos\n",
        "clf1 = LogisticRegression(max_iter=1000, solver='lbfgs', random_state=19)\n",
        "clf2 = LinearSVC(max_iter=1000, random_state=19)\n",
        "clf3 = RandomForestClassifier(n_estimators=500, max_depth=None,\n",
        "                              min_samples_split=5, min_samples_leaf=2,\n",
        "                              max_features='sqrt', random_state=19)\n",
        "\n",
        "# Ensamble\n",
        "eclf = VotingClassifier(estimators=[\n",
        "    ('lr', clf1),\n",
        "    ('svc', clf2),\n",
        "    ('rf', clf3)\n",
        "], voting='hard')\n",
        "\n",
        "# Entrenar\n",
        "eclf.fit(X_train_scaled, y_train)\n",
        "\n",
        "# Predecir\n",
        "y_pred = eclf.predict(X_test_scaled)"
      ],
      "metadata": {
        "id": "3EAUNVRW6GJY"
      },
      "execution_count": 11,
      "outputs": []
    },
    {
      "cell_type": "code",
      "source": [
        "from google.colab import drive\n",
        "drive.mount('/content/drive')"
      ],
      "metadata": {
        "id": "BD1ahvO8inKR"
      },
      "execution_count": null,
      "outputs": []
    },
    {
      "cell_type": "code",
      "source": [
        "from sklearn.metrics import classification_report, confusion_matrix, accuracy_score\n",
        "\n",
        "# Calcular la precisión (accuracy)\n",
        "accuracy = accuracy_score(y_test, y_pred)\n",
        "\n",
        "# Imprimir la precisión\n",
        "print(f'Accuracy: {accuracy * 100:.2f}%')\n",
        "\n",
        "# Imprimir el reporte de clasificación\n",
        "print(\"\\nClassification Report:\")\n",
        "print(classification_report(y_test, y_pred))\n",
        "\n",
        "# Imprimir la matriz de confusión\n",
        "print(\"\\nConfusion Matrix:\")\n",
        "print(confusion_matrix(y_test, y_pred))"
      ],
      "metadata": {
        "colab": {
          "base_uri": "https://localhost:8080/"
        },
        "id": "CFq4w1amKf7D",
        "outputId": "a7acdea2-414a-4782-bff3-a5a996a145c2"
      },
      "execution_count": 12,
      "outputs": [
        {
          "output_type": "stream",
          "name": "stdout",
          "text": [
            "Accuracy: 41.88%\n",
            "\n",
            "Classification Report:\n",
            "              precision    recall  f1-score   support\n",
            "\n",
            "        alto       0.49      0.66      0.56     35124\n",
            "        bajo       0.43      0.58      0.50     34597\n",
            "  medio-alto       0.32      0.21      0.25     34324\n",
            "  medio-bajo       0.33      0.22      0.26     34455\n",
            "\n",
            "    accuracy                           0.42    138500\n",
            "   macro avg       0.39      0.42      0.39    138500\n",
            "weighted avg       0.40      0.42      0.40    138500\n",
            "\n",
            "\n",
            "Confusion Matrix:\n",
            "[[23180  3749  5239  2956]\n",
            " [ 4537 20123  3915  6022]\n",
            " [12157  8965  7174  6028]\n",
            " [ 7332 13674  5928  7521]]\n"
          ]
        }
      ]
    },
    {
      "cell_type": "code",
      "source": [],
      "metadata": {
        "id": "h3DDMBFA-33m",
        "outputId": "dc129c2f-f67b-46fa-d793-dd81568570fb",
        "colab": {
          "base_uri": "https://localhost:8080/"
        }
      },
      "execution_count": 10,
      "outputs": [
        {
          "output_type": "stream",
          "name": "stdout",
          "text": [
            "[[23180  3749  5239  2956]\n",
            " [ 4537 20123  3915  6022]\n",
            " [12157  8965  7174  6028]\n",
            " [ 7332 13674  5928  7521]]\n",
            "              precision    recall  f1-score   support\n",
            "\n",
            "        alto       0.49      0.66      0.56     35124\n",
            "        bajo       0.43      0.58      0.50     34597\n",
            "  medio-alto       0.32      0.21      0.25     34324\n",
            "  medio-bajo       0.33      0.22      0.26     34455\n",
            "\n",
            "    accuracy                           0.42    138500\n",
            "   macro avg       0.39      0.42      0.39    138500\n",
            "weighted avg       0.40      0.42      0.40    138500\n",
            "\n"
          ]
        }
      ]
    },
    {
      "cell_type": "code",
      "source": [
        "df_test = pd.read_csv(\"test.csv\")\n",
        "ids_test = df_test[\"ID\"]\n",
        "X_test = df_test.drop(columns=[\"ID\"])"
      ],
      "metadata": {
        "id": "2rlYGwl8Sfx8"
      },
      "execution_count": null,
      "outputs": []
    },
    {
      "cell_type": "code",
      "source": [
        "# Imputar valores faltantes\n",
        "X_test[num_cols] = imp_num.transform(X_test[num_cols])\n",
        "X_test[cat_cols] = imp_cat.transform(X_test[cat_cols])\n",
        "\n",
        "# Codificación one-hot con las mismas columnas que el entrenamiento\n",
        "X_test_convertida = pd.get_dummies(X_test, columns=cat_cols, drop_first=True)\n",
        "\n",
        "# Asegurar que tenga las mismas columnas que X_convertida\n",
        "X_test_convertida = X_test_convertida.reindex(columns=X_convertida.columns, fill_value=0)"
      ],
      "metadata": {
        "id": "L0JypX0hS6-v"
      },
      "execution_count": null,
      "outputs": []
    },
    {
      "cell_type": "code",
      "source": [
        "y_test_pred = clf.predict(X_test_convertida)\n"
      ],
      "metadata": {
        "id": "pP9PHfoLTEjx"
      },
      "execution_count": null,
      "outputs": []
    },
    {
      "cell_type": "code",
      "source": [
        "print(len(y_test_pred))"
      ],
      "metadata": {
        "id": "AUt7unB2TZxb",
        "outputId": "a69bca5c-811c-4ba3-9dba-40b9496fcb23",
        "colab": {
          "base_uri": "https://localhost:8080/"
        }
      },
      "execution_count": null,
      "outputs": [
        {
          "output_type": "stream",
          "name": "stdout",
          "text": [
            "296786\n"
          ]
        }
      ]
    },
    {
      "cell_type": "code",
      "source": [],
      "metadata": {
        "id": "CweD-OzkLcwO"
      },
      "execution_count": null,
      "outputs": []
    },
    {
      "cell_type": "code",
      "source": [
        "submission = pd.DataFrame({\n",
        "    \"ID\": ids_test,\n",
        "    \"RENDIMIENTO_GLOBAL\": y_test_pred\n",
        "})"
      ],
      "metadata": {
        "id": "iAvVftNATPbu"
      },
      "execution_count": null,
      "outputs": []
    },
    {
      "cell_type": "code",
      "source": [
        "submission.to_csv(\"submission.csv\", index=False)\n"
      ],
      "metadata": {
        "id": "nBH41_Fnsrn3"
      },
      "execution_count": null,
      "outputs": []
    }
  ]
}